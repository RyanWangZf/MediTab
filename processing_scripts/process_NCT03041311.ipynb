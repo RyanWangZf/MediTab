{
 "cells": [
  {
   "cell_type": "code",
   "execution_count": 1,
   "id": "d24d234b",
   "metadata": {},
   "outputs": [],
   "source": [
    "from sas7bdat import SAS7BDAT\n",
    "import random\n",
    "import numpy as np\n",
    "import pandas as pd\n",
    "from sklearn.preprocessing import MinMaxScaler, StandardScaler, OrdinalEncoder\n",
    "random.seed(1234)\n",
    "np.random.seed(1234)"
   ]
  },
  {
   "cell_type": "code",
   "execution_count": 2,
   "id": "65425628",
   "metadata": {},
   "outputs": [],
   "source": [
    "with SAS7BDAT('adsl.sas7bdat', skip_header=False) as reader:\n",
    "    df = reader.to_data_frame()"
   ]
  },
  {
   "cell_type": "code",
   "execution_count": 3,
   "id": "8b84ba5a",
   "metadata": {},
   "outputs": [],
   "source": [
    "df['age'] = df['AGE'].apply(lambda x: x.split('-')[0]).replace({'>=80':'80'}).astype(int)\n",
    "df['age'] = MinMaxScaler().fit_transform(df['age'].values.reshape(-1,1))"
   ]
  },
  {
   "cell_type": "code",
   "execution_count": 4,
   "id": "b3504021",
   "metadata": {},
   "outputs": [],
   "source": [
    "df['ECOG performance score'] = df['ECOGSCR']\n",
    "df[['height','weight']] = MinMaxScaler().fit_transform(df[['HTCM','WTKG']])\n",
    "df['target_label'] = df['DCSREAS'].apply(lambda x: 1 if x =='DEATH' else 0)\n",
    "df_processed = df[['USUBJID','age','ECOG performance score','SEX','height','weight','target_label']]"
   ]
  },
  {
   "cell_type": "code",
   "execution_count": 5,
   "id": "174dfbd1",
   "metadata": {},
   "outputs": [],
   "source": [
    "with SAS7BDAT('adcm.sas7bdat', skip_header=False) as reader:\n",
    "    df = reader.to_data_frame()"
   ]
  },
  {
   "cell_type": "code",
   "execution_count": 6,
   "id": "0db6b521",
   "metadata": {},
   "outputs": [],
   "source": [
    "drug_list = [d for d in df['CMDECOD'].value_counts()[:10].index.tolist() if len(d) > 0]\n",
    "# df['baseline_status'] = df['CMPRIOR'].apply(lambda x: 1 if x == 'Yes' else 0)\n",
    "for drug in drug_list:\n",
    "    df[drug] = np.zeros(len(df))\n",
    "    # df.loc[(df['CMDECOD']==drug) & (df['baseline_status']==1), drug] = 1\n",
    "    df.loc[(df['CMDECOD']==drug), drug] = 1"
   ]
  },
  {
   "cell_type": "code",
   "execution_count": 7,
   "id": "1d350591",
   "metadata": {},
   "outputs": [],
   "source": [
    "df_drug = df[drug_list+['USUBJID']].groupby('USUBJID').max().reset_index()"
   ]
  },
  {
   "cell_type": "code",
   "execution_count": 8,
   "id": "83ef3c99",
   "metadata": {},
   "outputs": [],
   "source": [
    "df_processed = df_processed.merge(df_drug,on='USUBJID')"
   ]
  },
  {
   "cell_type": "code",
   "execution_count": 9,
   "id": "a4ff8840",
   "metadata": {},
   "outputs": [],
   "source": [
    "with SAS7BDAT('admh.sas7bdat', skip_header=False) as reader:\n",
    "    df = reader.to_data_frame()"
   ]
  },
  {
   "cell_type": "code",
   "execution_count": 10,
   "id": "f4d0d3a4",
   "metadata": {},
   "outputs": [],
   "source": [
    "dz_list=[dz for dz in df['MHDECOD'].value_counts()[:10].index.tolist() if len(dz)>0]\n",
    "for dz in dz_list:\n",
    "    df[dz]=np.zeros(len(df))\n",
    "    df.loc[df['MHDECOD']==dz,dz]=1\n",
    "df_dz=df[dz_list+['USUBJID']].groupby('USUBJID').max().reset_index()\n",
    "df_processed=df_processed.merge(df_dz,on='USUBJID',how='outer').fillna(0)"
   ]
  },
  {
   "cell_type": "code",
   "execution_count": 11,
   "id": "9806da37",
   "metadata": {},
   "outputs": [],
   "source": [
    "df_processed = df_processed.rename(columns={'USUBJID':'patient_id'})\n",
    "df_processed['SEX'] = df_processed['SEX'].apply(lambda x: 0 if x == 'M' else 1)"
   ]
  },
  {
   "cell_type": "code",
   "execution_count": 12,
   "id": "fa7f5df3",
   "metadata": {},
   "outputs": [],
   "source": [
    "df_processed.to_csv('NCT03041311.csv')"
   ]
  },
  {
   "cell_type": "code",
   "execution_count": 14,
   "id": "c855cfcf",
   "metadata": {},
   "outputs": [
    {
     "data": {
      "text/plain": [
       "Index(['patient_id', 'age', 'ECOG performance score', 'SEX', 'height',\n",
       "       'weight', 'target_label', 'DEXAMETHASONE', 'ONDANSETRON', 'PREDNISONE',\n",
       "       'SODIUM CHLORIDE', 'FAMOTIDINE', 'DIPHENHYDRAMINE HYDROCHLORIDE',\n",
       "       'PARACETAMOL', 'LORAZEPAM', 'ONDANSETRON HYDROCHLORIDE', 'Hypertension',\n",
       "       'Chronic obstructive pulmonary disease', 'Cough', 'Depression',\n",
       "       'Fatigue', 'Hypothyroidism', 'Dyspnoea', 'Anxiety', 'Nephrolithiasis',\n",
       "       'Weight decreased'],\n",
       "      dtype='object')"
      ]
     },
     "execution_count": 14,
     "metadata": {},
     "output_type": "execute_result"
    },
    {
     "data": {
      "text/plain": [
       "Index(['patient_id', 'age', 'ECOG performance score', 'SEX', 'height',\n",
       "       'weight', 'target_label', 'DEXAMETHASONE', 'ONDANSETRON', 'PREDNISONE',\n",
       "       'SODIUM CHLORIDE', 'FAMOTIDINE', 'DIPHENHYDRAMINE HYDROCHLORIDE',\n",
       "       'PARACETAMOL', 'LORAZEPAM', 'ONDANSETRON HYDROCHLORIDE', 'Hypertension',\n",
       "       'Chronic obstructive pulmonary disease', 'Cough', 'Depression',\n",
       "       'Fatigue', 'Hypothyroidism', 'Dyspnoea', 'Anxiety', 'Nephrolithiasis',\n",
       "       'Weight decreased'],\n",
       "      dtype='object')"
      ]
     },
     "execution_count": 14,
     "metadata": {},
     "output_type": "execute_result"
    }
   ],
   "source": [
    "df_processed.columns"
   ]
  },
  {
   "cell_type": "code",
   "execution_count": 15,
   "id": "588c77f0",
   "metadata": {},
   "outputs": [],
   "source": [
    "numerical_features = ['height','weight','age']\n",
    "f = open('NCT03041311_numerical_feature.txt','w')\n",
    "for x in numerical_features: f.write(x+'\\n')\n",
    "f.close()"
   ]
  },
  {
   "cell_type": "code",
   "execution_count": null,
   "id": "76b53dfb",
   "metadata": {},
   "outputs": [],
   "source": []
  }
 ],
 "metadata": {
  "kernelspec": {
   "display_name": "Python 3 (ipykernel)",
   "language": "python",
   "name": "python3"
  },
  "language_info": {
   "codemirror_mode": {
    "name": "ipython",
    "version": 3
   },
   "file_extension": ".py",
   "mimetype": "text/x-python",
   "name": "python",
   "nbconvert_exporter": "python",
   "pygments_lexer": "ipython3",
   "version": "3.9.7"
  }
 },
 "nbformat": 4,
 "nbformat_minor": 5
}

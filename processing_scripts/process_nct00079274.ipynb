{
 "cells": [
  {
   "cell_type": "code",
   "execution_count": 1,
   "id": "a235927d",
   "metadata": {},
   "outputs": [],
   "source": [
    "import pandas as pd\n",
    "import numpy as np"
   ]
  },
  {
   "cell_type": "code",
   "execution_count": 2,
   "id": "6d5dd042",
   "metadata": {},
   "outputs": [],
   "source": [
    "df = pd.read_csv(\"characteristic.csv\")\n",
    "bin_feat_list = []\n",
    "num_feat_list = []"
   ]
  },
  {
   "cell_type": "code",
   "execution_count": 3,
   "id": "9860e443",
   "metadata": {},
   "outputs": [],
   "source": [
    "df = df.rename(columns={\n",
    "    'ADHERENC': 'adherence',\n",
    "    'agecat': 'age',\n",
    "    'ARM': 'arms',\n",
    "    'BAD_TOX': 'serious adverse effect',\n",
    "    'BWL_OBS': 'bowel obstruction',\n",
    "    'BWL_PERF': 'bowel perforation',\n",
    "    'HISTO_G': 'histology',\n",
    "    'PS': 'ECOG performance score',\n",
    "    'racecat': 'race',\n",
    "    'SEX':'sex',\n",
    "    'wild':'biomarker KRAS',\n",
    "    'bmi2':'bmi',\n",
    "}\n",
    ")"
   ]
  },
  {
   "cell_type": "code",
   "execution_count": 4,
   "id": "c4069260",
   "metadata": {},
   "outputs": [],
   "source": [
    "df['arms'] = df['arms'].replace(\n",
    "{\n",
    "    'A': 'Oxaliplatin + 5-fluorouracil/Leucovorin',\n",
    "    'B': '5-fluorouracil/Leucovorin + Irinotecan',\n",
    "    'C': '5-fluorouracil/Leucovorin + Irinotecan (KRAS mutant)',\n",
    "    'D': 'Oxaliplatin + 5-fluorouracil/Leucovorin + Cetuximab',\n",
    "    'E': '5-fluorouracil/Leucovorin + Cetuximab + Irinotecan',\n",
    "    'F': '5-fluorouracil/Leucovorin + Cetuximab + Irinotecan',\n",
    "}\n",
    ")"
   ]
  },
  {
   "cell_type": "code",
   "execution_count": 5,
   "id": "4462a4fd",
   "metadata": {},
   "outputs": [],
   "source": [
    "df['adherence'] = df['adherence'].replace({1:'Yes',2:'No'})\n",
    "bin_feat_list.append('adherence')"
   ]
  },
  {
   "cell_type": "code",
   "execution_count": 6,
   "id": "ac8909c6",
   "metadata": {},
   "outputs": [],
   "source": [
    "df['age'] = df['age'].replace({\n",
    "    '< 40': 40,\n",
    "    '40-69': 55,\n",
    "    '>= 70': 70,\n",
    "}).astype(float)\n",
    "num_feat_list.append('age')"
   ]
  },
  {
   "cell_type": "code",
   "execution_count": 7,
   "id": "b463e995",
   "metadata": {},
   "outputs": [],
   "source": [
    "df['serious adverse effect'] = df['serious adverse effect'].apply(lambda x: 'Yes' if x == 1 else 'No')\n",
    "bin_feat_list.append('serious adverse effect')"
   ]
  },
  {
   "cell_type": "code",
   "execution_count": 8,
   "id": "0add8859",
   "metadata": {},
   "outputs": [],
   "source": [
    "df['bowel obstruction'] = df['bowel obstruction'].apply(lambda x: 'Yes' if x == 1 else 'No')\n",
    "bin_feat_list.append('bowel obstruction')"
   ]
  },
  {
   "cell_type": "code",
   "execution_count": 9,
   "id": "923db564",
   "metadata": {},
   "outputs": [],
   "source": [
    "df['bowel perforation'] = df['bowel perforation'].apply(lambda x: 'Yes' if x == 1 else 'No')\n",
    "bin_feat_list.append('bowel perforation')"
   ]
  },
  {
   "cell_type": "code",
   "execution_count": 10,
   "id": "2634c58e",
   "metadata": {},
   "outputs": [],
   "source": [
    "df['histology'] = df['histology'].replace({\n",
    "    1:'poorly differentiated',\n",
    "    2:'well differentiated',\n",
    "})"
   ]
  },
  {
   "cell_type": "code",
   "execution_count": 11,
   "id": "d28647b1",
   "metadata": {},
   "outputs": [],
   "source": [
    "df['ECOG performance score'] = df['ECOG performance score'].fillna(0).astype(int)\n",
    "num_feat_list.append('ECOG performance score')"
   ]
  },
  {
   "cell_type": "code",
   "execution_count": 12,
   "id": "abc81a6d",
   "metadata": {},
   "outputs": [],
   "source": [
    "df['race'] = df['race'].replace({'b':'black','w':'white','oth':'others'})"
   ]
  },
  {
   "cell_type": "code",
   "execution_count": 13,
   "id": "258a8869",
   "metadata": {},
   "outputs": [],
   "source": [
    "df['sex'] = df['sex'].replace({'m':'male','f':'female'})"
   ]
  },
  {
   "cell_type": "code",
   "execution_count": 14,
   "id": "99db3df6",
   "metadata": {},
   "outputs": [],
   "source": [
    "df['biomarker KRAS'] = df['biomarker KRAS'].replace({0:'mutant',1:'wild-type'}).fillna('interminate')"
   ]
  },
  {
   "cell_type": "code",
   "execution_count": 15,
   "id": "8f3e9b9f",
   "metadata": {},
   "outputs": [],
   "source": [
    "df['bmi'] = df['bmi'].fillna(df['bmi'].median())\n",
    "num_feat_list.append('bmi')"
   ]
  },
  {
   "cell_type": "code",
   "execution_count": 16,
   "id": "f5219d02",
   "metadata": {},
   "outputs": [],
   "source": [
    "df_processed = df[[\n",
    "    'adherence',\n",
    "    'age',\n",
    "    'arms',\n",
    "    'serious adverse effect',\n",
    "    'bowel obstruction',\n",
    "    'bowel perforation',\n",
    "    'histology',\n",
    "    'ECOG performance score',\n",
    "    'race',\n",
    "    'sex',\n",
    "    'biomarker KRAS',\n",
    "    'bmi',\n",
    "    'mask_id',\n",
    "]]"
   ]
  },
  {
   "cell_type": "code",
   "execution_count": 17,
   "id": "a9cc6374",
   "metadata": {},
   "outputs": [
    {
     "data": {
      "text/html": [
       "<div>\n",
       "<style scoped>\n",
       "    .dataframe tbody tr th:only-of-type {\n",
       "        vertical-align: middle;\n",
       "    }\n",
       "\n",
       "    .dataframe tbody tr th {\n",
       "        vertical-align: top;\n",
       "    }\n",
       "\n",
       "    .dataframe thead th {\n",
       "        text-align: right;\n",
       "    }\n",
       "</style>\n",
       "<table border=\"1\" class=\"dataframe\">\n",
       "  <thead>\n",
       "    <tr style=\"text-align: right;\">\n",
       "      <th></th>\n",
       "      <th>adherence</th>\n",
       "      <th>age</th>\n",
       "      <th>arms</th>\n",
       "      <th>serious adverse effect</th>\n",
       "      <th>bowel obstruction</th>\n",
       "      <th>bowel perforation</th>\n",
       "      <th>histology</th>\n",
       "      <th>ECOG performance score</th>\n",
       "      <th>race</th>\n",
       "      <th>sex</th>\n",
       "      <th>biomarker KRAS</th>\n",
       "      <th>bmi</th>\n",
       "      <th>mask_id</th>\n",
       "    </tr>\n",
       "  </thead>\n",
       "  <tbody>\n",
       "    <tr>\n",
       "      <th>0</th>\n",
       "      <td>No</td>\n",
       "      <td>55.0</td>\n",
       "      <td>Oxaliplatin + 5-fluorouracil/Leucovorin</td>\n",
       "      <td>No</td>\n",
       "      <td>No</td>\n",
       "      <td>No</td>\n",
       "      <td>well differentiated</td>\n",
       "      <td>0</td>\n",
       "      <td>others</td>\n",
       "      <td>female</td>\n",
       "      <td>wild-type</td>\n",
       "      <td>20.974482</td>\n",
       "      <td>1</td>\n",
       "    </tr>\n",
       "    <tr>\n",
       "      <th>1</th>\n",
       "      <td>No</td>\n",
       "      <td>55.0</td>\n",
       "      <td>Oxaliplatin + 5-fluorouracil/Leucovorin + Cetu...</td>\n",
       "      <td>No</td>\n",
       "      <td>No</td>\n",
       "      <td>No</td>\n",
       "      <td>well differentiated</td>\n",
       "      <td>0</td>\n",
       "      <td>white</td>\n",
       "      <td>male</td>\n",
       "      <td>wild-type</td>\n",
       "      <td>29.137170</td>\n",
       "      <td>2</td>\n",
       "    </tr>\n",
       "    <tr>\n",
       "      <th>2</th>\n",
       "      <td>No</td>\n",
       "      <td>55.0</td>\n",
       "      <td>Oxaliplatin + 5-fluorouracil/Leucovorin + Cetu...</td>\n",
       "      <td>No</td>\n",
       "      <td>No</td>\n",
       "      <td>No</td>\n",
       "      <td>well differentiated</td>\n",
       "      <td>0</td>\n",
       "      <td>white</td>\n",
       "      <td>female</td>\n",
       "      <td>wild-type</td>\n",
       "      <td>49.270950</td>\n",
       "      <td>3</td>\n",
       "    </tr>\n",
       "    <tr>\n",
       "      <th>3</th>\n",
       "      <td>No</td>\n",
       "      <td>55.0</td>\n",
       "      <td>Oxaliplatin + 5-fluorouracil/Leucovorin</td>\n",
       "      <td>No</td>\n",
       "      <td>No</td>\n",
       "      <td>No</td>\n",
       "      <td>well differentiated</td>\n",
       "      <td>0</td>\n",
       "      <td>white</td>\n",
       "      <td>male</td>\n",
       "      <td>mutant</td>\n",
       "      <td>31.572831</td>\n",
       "      <td>4</td>\n",
       "    </tr>\n",
       "    <tr>\n",
       "      <th>4</th>\n",
       "      <td>Yes</td>\n",
       "      <td>55.0</td>\n",
       "      <td>Oxaliplatin + 5-fluorouracil/Leucovorin + Cetu...</td>\n",
       "      <td>No</td>\n",
       "      <td>No</td>\n",
       "      <td>No</td>\n",
       "      <td>poorly differentiated</td>\n",
       "      <td>0</td>\n",
       "      <td>white</td>\n",
       "      <td>male</td>\n",
       "      <td>wild-type</td>\n",
       "      <td>16.776938</td>\n",
       "      <td>5</td>\n",
       "    </tr>\n",
       "    <tr>\n",
       "      <th>...</th>\n",
       "      <td>...</td>\n",
       "      <td>...</td>\n",
       "      <td>...</td>\n",
       "      <td>...</td>\n",
       "      <td>...</td>\n",
       "      <td>...</td>\n",
       "      <td>...</td>\n",
       "      <td>...</td>\n",
       "      <td>...</td>\n",
       "      <td>...</td>\n",
       "      <td>...</td>\n",
       "      <td>...</td>\n",
       "      <td>...</td>\n",
       "    </tr>\n",
       "    <tr>\n",
       "      <th>2963</th>\n",
       "      <td>No</td>\n",
       "      <td>55.0</td>\n",
       "      <td>Oxaliplatin + 5-fluorouracil/Leucovorin + Cetu...</td>\n",
       "      <td>No</td>\n",
       "      <td>No</td>\n",
       "      <td>No</td>\n",
       "      <td>well differentiated</td>\n",
       "      <td>0</td>\n",
       "      <td>white</td>\n",
       "      <td>male</td>\n",
       "      <td>mutant</td>\n",
       "      <td>29.620181</td>\n",
       "      <td>2964</td>\n",
       "    </tr>\n",
       "    <tr>\n",
       "      <th>2964</th>\n",
       "      <td>No</td>\n",
       "      <td>70.0</td>\n",
       "      <td>Oxaliplatin + 5-fluorouracil/Leucovorin</td>\n",
       "      <td>No</td>\n",
       "      <td>No</td>\n",
       "      <td>No</td>\n",
       "      <td>poorly differentiated</td>\n",
       "      <td>0</td>\n",
       "      <td>white</td>\n",
       "      <td>male</td>\n",
       "      <td>wild-type</td>\n",
       "      <td>32.151914</td>\n",
       "      <td>2965</td>\n",
       "    </tr>\n",
       "    <tr>\n",
       "      <th>2965</th>\n",
       "      <td>Yes</td>\n",
       "      <td>55.0</td>\n",
       "      <td>Oxaliplatin + 5-fluorouracil/Leucovorin</td>\n",
       "      <td>Yes</td>\n",
       "      <td>No</td>\n",
       "      <td>No</td>\n",
       "      <td>well differentiated</td>\n",
       "      <td>0</td>\n",
       "      <td>white</td>\n",
       "      <td>male</td>\n",
       "      <td>mutant</td>\n",
       "      <td>26.215516</td>\n",
       "      <td>2966</td>\n",
       "    </tr>\n",
       "    <tr>\n",
       "      <th>2966</th>\n",
       "      <td>No</td>\n",
       "      <td>55.0</td>\n",
       "      <td>Oxaliplatin + 5-fluorouracil/Leucovorin + Cetu...</td>\n",
       "      <td>No</td>\n",
       "      <td>No</td>\n",
       "      <td>No</td>\n",
       "      <td>well differentiated</td>\n",
       "      <td>0</td>\n",
       "      <td>black</td>\n",
       "      <td>female</td>\n",
       "      <td>wild-type</td>\n",
       "      <td>37.669095</td>\n",
       "      <td>2967</td>\n",
       "    </tr>\n",
       "    <tr>\n",
       "      <th>2967</th>\n",
       "      <td>Yes</td>\n",
       "      <td>55.0</td>\n",
       "      <td>Oxaliplatin + 5-fluorouracil/Leucovorin + Cetu...</td>\n",
       "      <td>No</td>\n",
       "      <td>Yes</td>\n",
       "      <td>Yes</td>\n",
       "      <td>well differentiated</td>\n",
       "      <td>0</td>\n",
       "      <td>white</td>\n",
       "      <td>male</td>\n",
       "      <td>wild-type</td>\n",
       "      <td>33.076632</td>\n",
       "      <td>2968</td>\n",
       "    </tr>\n",
       "  </tbody>\n",
       "</table>\n",
       "<p>2968 rows × 13 columns</p>\n",
       "</div>"
      ],
      "text/plain": [
       "     adherence   age                                               arms  \\\n",
       "0           No  55.0            Oxaliplatin + 5-fluorouracil/Leucovorin   \n",
       "1           No  55.0  Oxaliplatin + 5-fluorouracil/Leucovorin + Cetu...   \n",
       "2           No  55.0  Oxaliplatin + 5-fluorouracil/Leucovorin + Cetu...   \n",
       "3           No  55.0            Oxaliplatin + 5-fluorouracil/Leucovorin   \n",
       "4          Yes  55.0  Oxaliplatin + 5-fluorouracil/Leucovorin + Cetu...   \n",
       "...        ...   ...                                                ...   \n",
       "2963        No  55.0  Oxaliplatin + 5-fluorouracil/Leucovorin + Cetu...   \n",
       "2964        No  70.0            Oxaliplatin + 5-fluorouracil/Leucovorin   \n",
       "2965       Yes  55.0            Oxaliplatin + 5-fluorouracil/Leucovorin   \n",
       "2966        No  55.0  Oxaliplatin + 5-fluorouracil/Leucovorin + Cetu...   \n",
       "2967       Yes  55.0  Oxaliplatin + 5-fluorouracil/Leucovorin + Cetu...   \n",
       "\n",
       "     serious adverse effect bowel obstruction bowel perforation  \\\n",
       "0                        No                No                No   \n",
       "1                        No                No                No   \n",
       "2                        No                No                No   \n",
       "3                        No                No                No   \n",
       "4                        No                No                No   \n",
       "...                     ...               ...               ...   \n",
       "2963                     No                No                No   \n",
       "2964                     No                No                No   \n",
       "2965                    Yes                No                No   \n",
       "2966                     No                No                No   \n",
       "2967                     No               Yes               Yes   \n",
       "\n",
       "                  histology  ECOG performance score    race     sex  \\\n",
       "0       well differentiated                       0  others  female   \n",
       "1       well differentiated                       0   white    male   \n",
       "2       well differentiated                       0   white  female   \n",
       "3       well differentiated                       0   white    male   \n",
       "4     poorly differentiated                       0   white    male   \n",
       "...                     ...                     ...     ...     ...   \n",
       "2963    well differentiated                       0   white    male   \n",
       "2964  poorly differentiated                       0   white    male   \n",
       "2965    well differentiated                       0   white    male   \n",
       "2966    well differentiated                       0   black  female   \n",
       "2967    well differentiated                       0   white    male   \n",
       "\n",
       "     biomarker KRAS        bmi  mask_id  \n",
       "0         wild-type  20.974482        1  \n",
       "1         wild-type  29.137170        2  \n",
       "2         wild-type  49.270950        3  \n",
       "3            mutant  31.572831        4  \n",
       "4         wild-type  16.776938        5  \n",
       "...             ...        ...      ...  \n",
       "2963         mutant  29.620181     2964  \n",
       "2964      wild-type  32.151914     2965  \n",
       "2965         mutant  26.215516     2966  \n",
       "2966      wild-type  37.669095     2967  \n",
       "2967      wild-type  33.076632     2968  \n",
       "\n",
       "[2968 rows x 13 columns]"
      ]
     },
     "execution_count": 17,
     "metadata": {},
     "output_type": "execute_result"
    }
   ],
   "source": [
    "df_processed"
   ]
  },
  {
   "cell_type": "code",
   "execution_count": 18,
   "id": "8e19a57e",
   "metadata": {},
   "outputs": [],
   "source": [
    "df_obj = pd.read_csv(\"objectives.csv\")"
   ]
  },
  {
   "cell_type": "code",
   "execution_count": 19,
   "id": "b0b3bf6d",
   "metadata": {},
   "outputs": [],
   "source": [
    "df_obj['target_label'] = df_obj['fustat8']"
   ]
  },
  {
   "cell_type": "code",
   "execution_count": 20,
   "id": "eba61479",
   "metadata": {},
   "outputs": [],
   "source": [
    "df_tox = pd.read_csv('tox.csv')"
   ]
  },
  {
   "cell_type": "code",
   "execution_count": 21,
   "id": "772109a3",
   "metadata": {},
   "outputs": [],
   "source": [
    "df_tox['is serious'] = df_tox['GRADE'].apply(lambda x: 1 if x > 3 else 0)"
   ]
  },
  {
   "cell_type": "code",
   "execution_count": 22,
   "id": "8920c95d",
   "metadata": {},
   "outputs": [],
   "source": [
    "ae_list = df_tox['tox'].value_counts().index.tolist()\n",
    "ae_name_list = []\n",
    "for ae in ae_list:\n",
    "    ae_name = 'adverse effect: ' + ae.lower()\n",
    "    df_tox[ae_name] = np.zeros(len(df_tox))\n",
    "    df_tox.loc[df_tox['tox']==ae,ae_name] = 1\n",
    "    df_tox[ae_name] = df_tox[ae_name] * df_tox['is serious']\n",
    "    ae_name_list.append(ae_name)"
   ]
  },
  {
   "cell_type": "code",
   "execution_count": 23,
   "id": "5774f087",
   "metadata": {},
   "outputs": [],
   "source": [
    "df_tox = df_tox[ae_name_list+['mask_id']].groupby('mask_id').max().reset_index()"
   ]
  },
  {
   "cell_type": "code",
   "execution_count": 24,
   "id": "25d64839",
   "metadata": {},
   "outputs": [
    {
     "data": {
      "text/plain": [
       "mask_id                                 1945799.0\n",
       "adverse effect: paresthesias                  8.0\n",
       "adverse effect: diarrhea                     15.0\n",
       "adverse effect: acne/rash                     6.0\n",
       "adverse effect: fatigue                       7.0\n",
       "adverse effect: infection                    14.0\n",
       "adverse effect: nausea                        2.0\n",
       "adverse effect: stomatitis/mucositis          0.0\n",
       "adverse effect: thrombosis                   44.0\n",
       "adverse effect: hypersensitivity             16.0\n",
       "adverse effect: vomiting                      3.0\n",
       "adverse effect: dyspnea                       5.0\n",
       "adverse effect: febrile neutropenia           8.0\n",
       "adverse effect: anorexia                      1.0\n",
       "adverse effect: hypomagnesemia                8.0\n",
       "adverse effect: infarction                   10.0\n",
       "adverse effect: pneumonia                     1.0\n",
       "adverse effect: pneumonitis                   6.0\n",
       "adverse effect: weight loss                   0.0\n",
       "dtype: float64"
      ]
     },
     "execution_count": 24,
     "metadata": {},
     "output_type": "execute_result"
    }
   ],
   "source": [
    "df_tox.sum()"
   ]
  },
  {
   "cell_type": "code",
   "execution_count": 37,
   "id": "0bfa5895",
   "metadata": {},
   "outputs": [],
   "source": [
    "sub_ae_cols = ['adverse effect: thrombosis', 'adverse effect: hypersensitivity', 'adverse effect: infarction', 'adverse effect: diarrhea']\n",
    "bin_feat_list += sub_ae_cols"
   ]
  },
  {
   "cell_type": "code",
   "execution_count": 26,
   "id": "f5f8bb82",
   "metadata": {},
   "outputs": [],
   "source": [
    "df_processed = df_processed.merge(df_tox[sub_ae_cols+['mask_id']],how='left').fillna(0)"
   ]
  },
  {
   "cell_type": "code",
   "execution_count": 27,
   "id": "b2a945a8",
   "metadata": {},
   "outputs": [],
   "source": [
    "df_processed[sub_ae_cols]= df_processed[sub_ae_cols].replace({0:'No',1:'Yes'})"
   ]
  },
  {
   "cell_type": "code",
   "execution_count": 32,
   "id": "b29532a6",
   "metadata": {},
   "outputs": [],
   "source": [
    "df_processed = df_processed.merge(df_obj[['target_label','mask_id']])"
   ]
  },
  {
   "cell_type": "code",
   "execution_count": 35,
   "id": "5a793e65",
   "metadata": {},
   "outputs": [],
   "source": [
    "df_processed.drop('mask_id', axis=1).to_csv('NCT00079274.csv')"
   ]
  },
  {
   "cell_type": "code",
   "execution_count": 38,
   "id": "585488fc",
   "metadata": {},
   "outputs": [],
   "source": [
    "with open('numerical_feature.txt','w') as f:\n",
    "    for x in num_feat_list:\n",
    "        f.write(x+'\\n')\n",
    "with open('binary_feature.txt','w') as f:\n",
    "    for x in bin_feat_list:\n",
    "        f.write(x+'\\n')"
   ]
  },
  {
   "cell_type": "code",
   "execution_count": null,
   "id": "cf766f11",
   "metadata": {},
   "outputs": [],
   "source": []
  }
 ],
 "metadata": {
  "kernelspec": {
   "display_name": "Python 3 (ipykernel)",
   "language": "python",
   "name": "python3"
  },
  "language_info": {
   "codemirror_mode": {
    "name": "ipython",
    "version": 3
   },
   "file_extension": ".py",
   "mimetype": "text/x-python",
   "name": "python",
   "nbconvert_exporter": "python",
   "pygments_lexer": "ipython3",
   "version": "3.9.7"
  }
 },
 "nbformat": 4,
 "nbformat_minor": 5
}
